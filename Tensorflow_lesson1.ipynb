{
  "nbformat": 4,
  "nbformat_minor": 0,
  "metadata": {
    "colab": {
      "name": "Tensorflow-lesson1.ipynb",
      "provenance": [],
      "collapsed_sections": [],
      "authorship_tag": "ABX9TyMG7ing1swPm9p9LGbfGO7x"
    },
    "kernelspec": {
      "name": "python3",
      "display_name": "Python 3"
    }
  },
  "cells": [
    {
      "cell_type": "markdown",
      "metadata": {
        "id": "GRu1g2mtR-MG",
        "colab_type": "text"
      },
      "source": [
        "We explicitly specify to use Tensorflow 1.x in case it is not compatible with future version, such as the coming 2.x version.\n"
      ]
    },
    {
      "cell_type": "code",
      "metadata": {
        "id": "Xt9nJVG_R2nV",
        "colab_type": "code",
        "colab": {}
      },
      "source": [
        "%tensorflow_version 1.x"
      ],
      "execution_count": 0,
      "outputs": []
    },
    {
      "cell_type": "markdown",
      "metadata": {
        "id": "fy8SDJnFfP-Y",
        "colab_type": "text"
      },
      "source": [
        "Given, $x$, $y$, following code is to search for $A$ so that $y \\leftarrow A \\cdot x $, i.e. solve the equation $ y = A \\cdot x$.\n",
        "\n",
        "\n"
      ]
    },
    {
      "cell_type": "code",
      "metadata": {
        "id": "JePZc_ZsPMle",
        "colab_type": "code",
        "outputId": "bd848b0f-ad84-43d0-ea4d-f91fc2b692e2",
        "colab": {
          "base_uri": "https://localhost:8080/",
          "height": 1000
        }
      },
      "source": [
        "import matplotlib.pyplot as plt\n",
        "import numpy as np, pandas as pd\n",
        "import tensorflow as tf\n",
        "\n",
        "batch_size = 20\n",
        "x_vals = np.random.normal( 1, 0.1, 100 )\n",
        "y_vals = np.repeat( 10., 100 )\n",
        "x_data = tf.placeholder( shape = [ None, 1 ], dtype = tf.float32 )\n",
        "y_target = tf.placeholder( shape = [ None, 1 ], dtype = tf.float32 )\n",
        "A = tf.Variable( tf.random_normal( shape = [1,1] ) )\n",
        "my_output = tf.matmul( x_data, A )\n",
        "loss = tf.reduce_mean( tf.square( my_output - y_target ) )\n",
        "my_opt = tf.train.GradientDescentOptimizer( 0.02 )\n",
        "train_step = my_opt.minimize( loss )\n",
        "\n",
        "sess = tf.Session()\n",
        "init = tf.global_variables_initializer()\n",
        "sess.run( init )\n",
        "\n",
        "loss_batch = []\n",
        "for i in range( 100 ):\n",
        "  rand_index = np.random.choice( 100, size = batch_size )\n",
        "  rand_x = np.transpose( [ x_vals[ rand_index ] ] )\n",
        "  rand_y = np.transpose( [ y_vals[ rand_index ] ] )\n",
        "  sess.run( train_step, feed_dict = {x_data: rand_x, y_target: rand_y })\n",
        "  if (i + 1)%5 == 0:\n",
        "    print( 'Step # {}, A = {}'.format( i + 1, sess.run( A ) ) )\n",
        "    temp_loss = sess.run( loss, feed_dict = {x_data: rand_x, y_target: rand_y } )\n",
        "    print( 'Loss = {}'.format( temp_loss ) )\n",
        "    loss_batch.append( temp_loss )\n",
        "\n",
        "sess.close()\n",
        "\n",
        "pd.Series( loss_batch, index = list( range(20)) ).plot( figsize=(10,5), grid = True )\n",
        "\n"
      ],
      "execution_count": 0,
      "outputs": [
        {
          "output_type": "stream",
          "text": [
            "Step # 5, A = [[1.933563]]\n",
            "Loss = 66.03800201416016\n",
            "Step # 10, A = [[3.4214988]]\n",
            "Loss = 42.69446563720703\n",
            "Step # 15, A = [[4.627094]]\n",
            "Loss = 29.56023597717285\n",
            "Step # 20, A = [[5.606001]]\n",
            "Loss = 16.869861602783203\n",
            "Step # 25, A = [[6.397989]]\n",
            "Loss = 11.856734275817871\n",
            "Step # 30, A = [[7.0532517]]\n",
            "Loss = 9.653852462768555\n",
            "Step # 35, A = [[7.60169]]\n",
            "Loss = 6.6807355880737305\n",
            "Step # 40, A = [[8.043033]]\n",
            "Loss = 5.4250006675720215\n",
            "Step # 45, A = [[8.405809]]\n",
            "Loss = 3.825944185256958\n",
            "Step # 50, A = [[8.698574]]\n",
            "Loss = 3.8297126293182373\n",
            "Step # 55, A = [[8.937208]]\n",
            "Loss = 1.6291965246200562\n",
            "Step # 60, A = [[9.119432]]\n",
            "Loss = 1.6070425510406494\n",
            "Step # 65, A = [[9.292812]]\n",
            "Loss = 1.434683084487915\n",
            "Step # 70, A = [[9.425738]]\n",
            "Loss = 1.299200177192688\n",
            "Step # 75, A = [[9.513283]]\n",
            "Loss = 1.7689692974090576\n",
            "Step # 80, A = [[9.595922]]\n",
            "Loss = 1.7287908792495728\n",
            "Step # 85, A = [[9.684559]]\n",
            "Loss = 1.194466233253479\n",
            "Step # 90, A = [[9.74681]]\n",
            "Loss = 1.1498348712921143\n",
            "Step # 95, A = [[9.808308]]\n",
            "Loss = 1.3286330699920654\n",
            "Step # 100, A = [[9.822222]]\n",
            "Loss = 0.9327832460403442\n"
          ],
          "name": "stdout"
        },
        {
          "output_type": "execute_result",
          "data": {
            "text/plain": [
              "<matplotlib.axes._subplots.AxesSubplot at 0x7f4e2df93588>"
            ]
          },
          "metadata": {
            "tags": []
          },
          "execution_count": 24
        },
        {
          "output_type": "display_data",
          "data": {
            "image/png": "[encoded data removed]",
            "text/plain": [
              "<Figure size 720x360 with 1 Axes>"
            ]
          },
          "metadata": {
            "tags": []
          }
        }
      ]
    },
    {
      "cell_type": "code",
      "metadata": {
        "id": "axzj-OFUXw0u",
        "colab_type": "code",
        "outputId": "02a304a1-912b-4a1b-f85c-7c8a508f2209",
        "colab": {
          "base_uri": "https://localhost:8080/",
          "height": 962
        }
      },
      "source": [
        ""
      ],
      "execution_count": 0,
      "outputs": [
        {
          "output_type": "stream",
          "text": [
            "Step # 5, A = [[1.1889912]]\n",
            "Loss = 78.41285705566406\n",
            "Step # 10, A = [[2.798057]]\n",
            "Loss = 51.47438430786133\n",
            "Step # 15, A = [[4.1219893]]\n",
            "Loss = 34.98993682861328\n",
            "Step # 20, A = [[5.198461]]\n",
            "Loss = 22.870840072631836\n",
            "Step # 25, A = [[6.0709543]]\n",
            "Loss = 15.542501449584961\n",
            "Step # 30, A = [[6.787315]]\n",
            "Loss = 11.61255931854248\n",
            "Step # 35, A = [[7.370566]]\n",
            "Loss = 8.625094413757324\n",
            "Step # 40, A = [[7.820683]]\n",
            "Loss = 4.378604888916016\n",
            "Step # 45, A = [[8.213577]]\n",
            "Loss = 4.866068363189697\n",
            "Step # 50, A = [[8.521103]]\n",
            "Loss = 3.2977027893066406\n",
            "Step # 55, A = [[8.780365]]\n",
            "Loss = 3.226734161376953\n",
            "Step # 60, A = [[9.001888]]\n",
            "Loss = 2.969587564468384\n",
            "Step # 65, A = [[9.175448]]\n",
            "Loss = 2.2117209434509277\n",
            "Step # 70, A = [[9.317888]]\n",
            "Loss = 1.559459924697876\n",
            "Step # 75, A = [[9.415998]]\n",
            "Loss = 1.685811996459961\n",
            "Step # 80, A = [[9.505699]]\n",
            "Loss = 1.438134789466858\n",
            "Step # 85, A = [[9.601571]]\n",
            "Loss = 1.5183993577957153\n",
            "Step # 90, A = [[9.686555]]\n",
            "Loss = 1.056024193763733\n",
            "Step # 95, A = [[9.73366]]\n",
            "Loss = 0.9254695177078247\n",
            "Step # 100, A = [[9.798604]]\n",
            "Loss = 1.7447025775909424\n"
          ],
          "name": "stdout"
        },
        {
          "output_type": "execute_result",
          "data": {
            "text/plain": [
              "[<matplotlib.lines.Line2D at 0x7f4e2e0270b8>]"
            ]
          },
          "metadata": {
            "tags": []
          },
          "execution_count": 23
        },
        {
          "output_type": "display_data",
          "data": {
            "image/png": "[encoded data removed]",
            "text/plain": [
              "<Figure size 432x288 with 1 Axes>"
            ]
          },
          "metadata": {
            "tags": []
          }
        }
      ]
    },
    {
      "cell_type": "code",
      "metadata": {
        "id": "Nd9RFyIbR8Je",
        "colab_type": "code",
        "colab": {}
      },
      "source": [
        ""
      ],
      "execution_count": 0,
      "outputs": []
    },
    {
      "cell_type": "markdown",
      "metadata": {
        "id": "-3ewsIUQRx-D",
        "colab_type": "text"
      },
      "source": [
        ""
      ]
    }
  ]
}