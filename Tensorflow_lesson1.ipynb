{
  "nbformat": 4,
  "nbformat_minor": 0,
  "metadata": {
    "colab": {
      "name": "Tensorflow-lesson1.ipynb",
      "provenance": [],
      "collapsed_sections": [],
      "authorship_tag": "ABX9TyNlxpd+9AeFD0FysPsplHGh"
    },
    "kernelspec": {
      "name": "python3",
      "display_name": "Python 3"
    }
  },
  "cells": [
    {
      "cell_type": "markdown",
      "metadata": {
        "id": "GRu1g2mtR-MG",
        "colab_type": "text"
      },
      "source": [
        "We explicitly specify to use Tensorflow 1.x in case it is not compatible with future version, such as the coming 2.x version.\n"
      ]
    },
    {
      "cell_type": "code",
      "metadata": {
        "id": "Xt9nJVG_R2nV",
        "colab_type": "code",
        "colab": {}
      },
      "source": [
        "%tensorflow_version 1.x"
      ],
      "execution_count": 0,
      "outputs": []
    },
    {
      "cell_type": "markdown",
      "metadata": {
        "id": "fy8SDJnFfP-Y",
        "colab_type": "text"
      },
      "source": [
        "Given, $x$, $y$, following code is to search for $A$ so that $y \\leftarrow A \\cdot x $, i.e. solve the equation $ y = A \\cdot x$.\n",
        "\n",
        "\n"
      ]
    },
    {
      "cell_type": "code",
      "metadata": {
        "id": "JePZc_ZsPMle",
        "colab_type": "code",
        "outputId": "aee93ee6-b073-436a-a0b0-be7138143021",
        "colab": {
          "base_uri": "https://localhost:8080/",
          "height": 1000
        }
      },
      "source": [
        "import matplotlib.pyplot as plt\n",
        "import numpy as np, pandas as pd\n",
        "import tensorflow as tf\n",
        "\n",
        "batch_size = 20\n",
        "x_vals = np.random.normal( 1, 0.1, 100 )\n",
        "y_vals = np.repeat( 10., 100 )\n",
        "x_data = tf.placeholder( shape = [ None, 1 ], dtype = tf.float32 )\n",
        "y_target = tf.placeholder( shape = [ None, 1 ], dtype = tf.float32 )\n",
        "A = tf.Variable( tf.random_normal( shape = [1,1] ) )\n",
        "my_output = tf.matmul( x_data, A )\n",
        "loss = tf.reduce_mean( tf.square( my_output - y_target ) )\n",
        "my_opt = tf.train.GradientDescentOptimizer( 0.02 )\n",
        "train_step = my_opt.minimize( loss )\n",
        "\n",
        "sess = tf.Session()\n",
        "init = tf.global_variables_initializer()\n",
        "sess.run( init )\n",
        "\n",
        "loss_batch = []\n",
        "for i in range( 100 ):\n",
        "  rand_index = np.random.choice( 100, size = batch_size )\n",
        "  rand_x = np.transpose( [ x_vals[ rand_index ] ] )\n",
        "  rand_y = np.transpose( [ y_vals[ rand_index ] ] )\n",
        "  sess.run( train_step, feed_dict = {x_data: rand_x, y_target: rand_y })\n",
        "  if (i + 1)%5 == 0:\n",
        "    print( 'Step # {}, A = {}'.format( i + 1, sess.run( A ) ) )\n",
        "    temp_loss = sess.run( loss, feed_dict = {x_data: rand_x, y_target: rand_y } )\n",
        "    print( 'Loss = {}'.format( temp_loss ) )\n",
        "    loss_batch.append( temp_loss )\n",
        "\n",
        "sess.close()\n",
        "\n",
        "pd.Series( loss_batch, index = list( range(20)) ).plot( figsize=(10,5), grid = True )\n",
        "\n"
      ],
      "execution_count": 26,
      "outputs": [
        {
          "output_type": "stream",
          "text": [
            "Step # 5, A = [[2.1908906]]\n",
            "Loss = 60.367156982421875\n",
            "Step # 10, A = [[3.6057742]]\n",
            "Loss = 41.78626251220703\n",
            "Step # 15, A = [[4.7821484]]\n",
            "Loss = 25.524715423583984\n",
            "Step # 20, A = [[5.7382216]]\n",
            "Loss = 18.02544403076172\n",
            "Step # 25, A = [[6.5133834]]\n",
            "Loss = 11.504247665405273\n",
            "Step # 30, A = [[7.1372056]]\n",
            "Loss = 8.244590759277344\n",
            "Step # 35, A = [[7.662651]]\n",
            "Loss = 6.190857887268066\n",
            "Step # 40, A = [[8.073411]]\n",
            "Loss = 4.405425548553467\n",
            "Step # 45, A = [[8.417829]]\n",
            "Loss = 3.2698397636413574\n",
            "Step # 50, A = [[8.688317]]\n",
            "Loss = 1.6229454278945923\n",
            "Step # 55, A = [[8.9051075]]\n",
            "Loss = 1.813165307044983\n",
            "Step # 60, A = [[9.093764]]\n",
            "Loss = 1.1460050344467163\n",
            "Step # 65, A = [[9.235938]]\n",
            "Loss = 1.147708535194397\n",
            "Step # 70, A = [[9.357454]]\n",
            "Loss = 1.7275326251983643\n",
            "Step # 75, A = [[9.465937]]\n",
            "Loss = 0.7693750262260437\n",
            "Step # 80, A = [[9.539473]]\n",
            "Loss = 0.8462035059928894\n",
            "Step # 85, A = [[9.589081]]\n",
            "Loss = 1.0846935510635376\n",
            "Step # 90, A = [[9.630781]]\n",
            "Loss = 0.6467625498771667\n",
            "Step # 95, A = [[9.6776905]]\n",
            "Loss = 0.5667077302932739\n",
            "Step # 100, A = [[9.73718]]\n",
            "Loss = 0.7178310751914978\n"
          ],
          "name": "stdout"
        },
        {
          "output_type": "execute_result",
          "data": {
            "text/plain": [
              "<matplotlib.axes._subplots.AxesSubplot at 0x7f4e2debbe80>"
            ]
          },
          "metadata": {
            "tags": []
          },
          "execution_count": 26
        },
        {
          "output_type": "display_data",
          "data": {
            "image/png": "[encoded data removed]",
            "text/plain": [
              "<Figure size 720x360 with 1 Axes>"
            ]
          },
          "metadata": {
            "tags": []
          }
        }
      ]
    },
    {
      "cell_type": "code",
      "metadata": {
        "id": "axzj-OFUXw0u",
        "colab_type": "code",
        "colab": {}
      },
      "source": [
        ""
      ],
      "execution_count": 0,
      "outputs": []
    },
    {
      "cell_type": "markdown",
      "metadata": {
        "id": "-3ewsIUQRx-D",
        "colab_type": "text"
      },
      "source": [
        ""
      ]
    }
  ]
}